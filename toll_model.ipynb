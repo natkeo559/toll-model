{
 "cells": [
  {
   "cell_type": "code",
   "execution_count": 1,
   "metadata": {},
   "outputs": [],
   "source": [
    "import numpy as np\n",
    "from math import e\n",
    "from copy import copy\n"
   ]
  },
  {
   "cell_type": "markdown",
   "metadata": {},
   "source": [
    "### Constants and globals\n",
    "\n",
    "`SPEED`: the speed limit of a car through the system. 13.4 m/s = 30 mph\n",
    "\n",
    "`TOLL_DELAY`: the time it takes for a payment to be processed. Online, we found that the average time may be around four seconds for a payment to be processed.\n",
    "\n",
    "`paths`: shared among several functions. Stores a list of lists representing all possible paths through a toll system and their associated costs with respect to time."
   ]
  },
  {
   "cell_type": "code",
   "execution_count": 2,
   "metadata": {},
   "outputs": [],
   "source": [
    "SPEED: float = 13.4\n",
    "TOLL_DELAY: float = 4.0\n",
    "paths: list = []\n"
   ]
  },
  {
   "cell_type": "markdown",
   "metadata": {},
   "source": [
    "### Time Delta Function:\n",
    "\n",
    "This function computes time given a distance and a speed."
   ]
  },
  {
   "cell_type": "code",
   "execution_count": 3,
   "metadata": {},
   "outputs": [],
   "source": [
    "def time_delta(distance: float, speed: float = SPEED) -> float:\n",
    "    return distance / speed\n"
   ]
  },
  {
   "cell_type": "markdown",
   "metadata": {},
   "source": [
    "### Time to Merge\n",
    "\n",
    "This function computes a time given distance and speed. Merge penalty curve is applied here."
   ]
  },
  {
   "cell_type": "code",
   "execution_count": 4,
   "metadata": {},
   "outputs": [],
   "source": [
    "def time_to_merge(distance: float, speed: float = SPEED) -> float:\n",
    "    t: float = time_delta(distance, speed)\n",
    "    return (t / (pow(e, -1.2 * (1 - (t * (1 / 2.5))) - 1) - 0.1)) + t\n"
   ]
  },
  {
   "cell_type": "markdown",
   "metadata": {},
   "source": [
    "### Time Toll\n",
    "\n",
    "This function computes the time given speed and distance, but adds the time taken to process a payment."
   ]
  },
  {
   "cell_type": "code",
   "execution_count": 5,
   "metadata": {},
   "outputs": [],
   "source": [
    "def time_toll(distance, speed: float = SPEED, delay: float = TOLL_DELAY) -> float:\n",
    "    return time_delta(distance, speed) + delay\n"
   ]
  },
  {
   "cell_type": "markdown",
   "metadata": {},
   "source": [
    "### Draw Path\n",
    "\n",
    "This function takes a given toll plaza with defined paths, merges, distances, etc. and computes the deterministic set of paths with merges. The paths through a given toll plaza are stored in the global `paths` variable and will be used again later to calulate the cost in time for each given path. "
   ]
  },
  {
   "cell_type": "code",
   "execution_count": 6,
   "metadata": {},
   "outputs": [],
   "source": [
    "def draw_path(\n",
    "    toll,\n",
    "    start: str,\n",
    "    stop=False,\n",
    "    segments: list = [],\n",
    "    solution: list = [],\n",
    "    weights: list = [],\n",
    ") -> list:\n",
    "    if stop:\n",
    "        paths.append(weights[:-1].copy())\n",
    "\n",
    "    for i in toll[start]:\n",
    "        seg: list = [start, i[0]]\n",
    "        if seg not in segments:\n",
    "            segments.append(seg)\n",
    "            solution.append(i[0])\n",
    "            weights.append(i[1])\n",
    "            \n",
    "            draw_path(toll, i[0], i[1] == 0, segments, solution, weights)\n",
    "\n",
    "            # Backtrack\n",
    "            if len(segments) != 0:\n",
    "                segments.pop()\n",
    "            if len(solution) != 0:\n",
    "                solution.pop()\n",
    "            if len(weights) != 0:\n",
    "                weights.pop()\n",
    "\n",
    "    return paths\n"
   ]
  },
  {
   "cell_type": "markdown",
   "metadata": {},
   "source": [
    "### Calc Time\n",
    "\n",
    "This function computes the time at each step on a path. and returns a total path time as well as the number of merges in the specific path."
   ]
  },
  {
   "cell_type": "code",
   "execution_count": 7,
   "metadata": {},
   "outputs": [],
   "source": [
    "def calc_time(path: list) -> tuple[float | int]:\n",
    "    t: float = 0\n",
    "    merges: int = 0\n",
    "    for i in path:\n",
    "        if i == \"10t\":\n",
    "            i: float = float(i[0:-1])\n",
    "            t += time_toll(i)\n",
    "        elif i < 0:\n",
    "            t += time_to_merge(abs(i))\n",
    "            merges += 1\n",
    "        else:\n",
    "            t += time_delta(i)\n",
    "    return t, merges\n"
   ]
  },
  {
   "cell_type": "markdown",
   "metadata": {},
   "source": [
    "### Run\n",
    "\n",
    "This function serves as a driver for computing times for a toll with any number of nodes. We use this to see the min, max, and average time taken to get through a toll as well as aditional information about specific paths that may allow us to make inferences."
   ]
  },
  {
   "cell_type": "code",
   "execution_count": 8,
   "metadata": {},
   "outputs": [],
   "source": [
    "def run(t, s):\n",
    "    \n",
    "    # Collect all paths for a toll configuration\n",
    "    for i in s:\n",
    "        pathlist = []\n",
    "        for i in draw_path(toll=t, start=i, solution=[i]):\n",
    "            pathlist.append(i)\n",
    "\n",
    "    # Generate list of times associated with their respective path\n",
    "    T = []\n",
    "    for p in pathlist:\n",
    "        time, merges = calc_time(p)\n",
    "        print(f\"{p} --- {round(time, 3)} --- {merges}\")\n",
    "        T.append(time)\n",
    "\n",
    "    print(f\"\\nMIN  = {round(min(T), 3)} s\")\n",
    "    print(f\"MAX  = {round(max(T), 3)} s\")\n",
    "    print(f\"MEAN = {round(np.mean(T), 3)} s\")\n"
   ]
  },
  {
   "cell_type": "markdown",
   "metadata": {},
   "source": [
    "`Note on toll configuration encoding`:  \n",
    "\n",
    "The format is as follows:\n",
    "\n",
    "```\n",
    "Name of toll = {\n",
    "    startnode_lane: [(connectednode_lane, distance to node), (...), ...],\n",
    "    ...\n",
    "\n",
    "    endnode_lane: [(endnode_lane, 0)]\n",
    "    \n",
    "}\n",
    "```\n",
    "\n",
    "lanes with distances marked \"10t\" are parsed as being toll booth segemnts. So \"10t\" would be read as a segment of length 10 that is a toll booth segment.  \n",
    "\n",
    "Lanes that have a negative distance are parsed as being merges. So \"-100\" would indicate that a lane is merging over a distance of 100 meters."
   ]
  },
  {
   "cell_type": "markdown",
   "metadata": {},
   "source": [
    "### Toll Plaza Configurations\n",
    "\n",
    "We have 4 different configurations:\n",
    "\n",
    "`TOLL1A`: Base example. 2 lanes in, 3 toll booths, 2 lanes out with only 1 lane allowed to merge once before and after the toll.  \n",
    "`TOLL1B`: Similar to base example, but now both lanes are allowed to merge once before and after the toll.  \n",
    "`TOLL2A`: Similar to TOLL1B except all lanes are either splitting or merging, forcing a driver to eventually merge.  \n",
    "`TOLL3A`: 1 lane in, 4 toll booths, 1 lane out, with the toll plaza bisected, disallowing merging in some cases.  \n",
    "\n",
    "All toll configurations for this test of the implementation have a total toll plaza length of 370 meters.  \n",
    "The only thing that varries is the merge distance and configuration."
   ]
  },
  {
   "cell_type": "code",
   "execution_count": 9,
   "metadata": {},
   "outputs": [],
   "source": [
    "TOLL1A: dict = {\n",
    "    \"t0_a\": [(\"t1_a\", 50)],\n",
    "    \"t0_b\": [(\"t1_b\", 50)],\n",
    "    \"t1_a\": [(\"t2_a\", 100)],\n",
    "    \"t1_b\": [(\"t2_b\", 100), (\"t2_c\", 100)],\n",
    "    \"t2_a\": [(\"t3_a\", 30)],\n",
    "    \"t2_b\": [(\"t3_b\", 30)],\n",
    "    \"t2_c\": [(\"t3_c\", 30)],\n",
    "    \"t3_a\": [(\"t4_a\", \"10t\")],\n",
    "    \"t3_b\": [(\"t4_b\", \"10t\")],\n",
    "    \"t3_c\": [(\"t4_c\", \"10t\")],\n",
    "    \"t4_a\": [(\"t5_a\", 30)],\n",
    "    \"t4_b\": [(\"t5_b\", 30)],\n",
    "    \"t4_c\": [(\"t5_c\", 30)],\n",
    "    \"t5_a\": [(\"t6_a\", 100)],\n",
    "    \"t5_b\": [(\"t6_b\", 100)],\n",
    "    \"t5_c\": [(\"t6_b\", -100)],\n",
    "    \"t6_a\": [(\"t7_a\", 50)],\n",
    "    \"t6_b\": [(\"t7_b\", 50)],\n",
    "    \"t7_a\": [(\"t7_a\", 0)],\n",
    "    \"t7_b\": [(\"t7_b\", 0)],\n",
    "}\n"
   ]
  },
  {
   "cell_type": "code",
   "execution_count": 10,
   "metadata": {},
   "outputs": [],
   "source": [
    "# Lane a can now merge into and out of lane b\n",
    "TOLL1B: dict = {\n",
    "    \"t0_a\": [(\"t1_a\", 50)],\n",
    "    \"t0_b\": [(\"t1_b\", 50)],\n",
    "    \"t1_a\": [(\"t2_a\", 100), (\"t2_b\", -100)],\n",
    "    \"t1_b\": [(\"t2_b\", 100), (\"t2_c\", 100)],\n",
    "    \"t2_a\": [(\"t3_a\", 30)],\n",
    "    \"t2_b\": [(\"t3_b\", 30)],\n",
    "    \"t2_c\": [(\"t3_c\", 30)],\n",
    "    \"t3_a\": [(\"t4_a\", \"10t\")],\n",
    "    \"t3_b\": [(\"t4_b\", \"10t\")],\n",
    "    \"t3_c\": [(\"t4_c\", \"10t\")],\n",
    "    \"t4_a\": [(\"t5_a\", 30)],\n",
    "    \"t4_b\": [(\"t5_b\", 30)],\n",
    "    \"t4_c\": [(\"t5_c\", 30)],\n",
    "    \"t5_a\": [(\"t6_a\", 100)],\n",
    "    \"t5_b\": [(\"t6_b\", 100), (\"t6_a\", -100)],\n",
    "    \"t5_c\": [(\"t6_b\", -100)],\n",
    "    \"t6_a\": [(\"t7_a\", 50)],\n",
    "    \"t6_b\": [(\"t7_b\", 50)],\n",
    "    \"t7_a\": [(\"t7_a\", 0)],\n",
    "    \"t7_b\": [(\"t7_b\", 0)],\n",
    "}\n"
   ]
  },
  {
   "cell_type": "code",
   "execution_count": 11,
   "metadata": {},
   "outputs": [],
   "source": [
    "TOLL2A: dict = {\n",
    "    \"t0_a\": [(\"t1_a\", 50)],\n",
    "    \"t0_b\": [(\"t1_b\", 50)],\n",
    "    \"t1_a\": [(\"t2_a\", 100), (\"t2_b\", -100)],\n",
    "    \"t1_b\": [(\"t2_b\", -100), (\"t2_c\", 100)],\n",
    "    \"t2_a\": [(\"t3_a\", 30)],\n",
    "    \"t2_b\": [(\"t3_b\", 30)],\n",
    "    \"t2_c\": [(\"t3_c\", 30)],\n",
    "    \"t3_a\": [(\"t4_a\", \"10t\")],\n",
    "    \"t3_b\": [(\"t4_b\", \"10t\")],\n",
    "    \"t3_c\": [(\"t4_c\", \"10t\")],\n",
    "    \"t4_a\": [(\"t5_a\", 30)],\n",
    "    \"t4_b\": [(\"t5_b\", 30)],\n",
    "    \"t4_c\": [(\"t5_c\", 30)],\n",
    "    \"t5_a\": [(\"t6_a\", -100)],\n",
    "    \"t5_b\": [(\"t6_a\", -100), (\"t6_b\", -100)],\n",
    "    \"t5_c\": [(\"t6_b\", -100)],\n",
    "    \"t6_a\": [(\"t7_a\", 50)],\n",
    "    \"t6_b\": [(\"t7_b\", 50)],\n",
    "    \"t7_a\": [(\"t7_a\", 0)],\n",
    "    \"t7_b\": [(\"t7_b\", 0)],\n",
    "}\n"
   ]
  },
  {
   "cell_type": "code",
   "execution_count": 12,
   "metadata": {},
   "outputs": [],
   "source": [
    "TOLL3A: dict = {\n",
    "    \"t0_a\": [(\"t1_a\", 50), (\"t1_b\", 50)],\n",
    "    \"t1_a\": [(\"t2_a\", 50)],\n",
    "    \"t1_b\": [(\"t2_b\", 50)],\n",
    "    \"t2_a\": [(\"t3_a\", 50), (\"t3_b\", 50)],\n",
    "    \"t2_b\": [(\"t3_c\", 50), (\"t3_d\", 50)],\n",
    "    \"t3_a\": [(\"t4_a\", 30)],\n",
    "    \"t3_b\": [(\"t4_b\", 30)],\n",
    "    \"t3_c\": [(\"t4_c\", 30)],\n",
    "    \"t3_d\": [(\"t4_d\", 30)],\n",
    "    \"t4_a\": [(\"t5_a\", \"10t\")],\n",
    "    \"t4_b\": [(\"t5_b\", \"10t\")],\n",
    "    \"t4_c\": [(\"t5_c\", \"10t\")],\n",
    "    \"t4_d\": [(\"t5_d\", \"10t\")],\n",
    "    \"t5_a\": [(\"t6_a\", 30)],\n",
    "    \"t5_b\": [(\"t6_b\", 30)],\n",
    "    \"t5_c\": [(\"t6_c\", 30)],\n",
    "    \"t5_d\": [(\"t6_d\", 30)],\n",
    "    \"t6_a\": [(\"t7_a\", -50)],\n",
    "    \"t6_b\": [(\"t7_a\", 50)],\n",
    "    \"t6_c\": [(\"t7_b\", 50)],\n",
    "    \"t6_d\": [(\"t7_b\", -50)],\n",
    "    \"t7_a\": [(\"t8_a\", 50)],\n",
    "    \"t7_b\": [(\"t8_b\", 50)],\n",
    "    \"t8_a\": [(\"t9_a\", -50)],\n",
    "    \"t8_b\": [(\"t9_a\", -50)],\n",
    "    \"t9_a\": [(\"t9_a\", 0)],\n",
    "}\n"
   ]
  },
  {
   "cell_type": "markdown",
   "metadata": {},
   "source": [
    "# Toll 1A"
   ]
  },
  {
   "cell_type": "code",
   "execution_count": 13,
   "metadata": {},
   "outputs": [
    {
     "name": "stdout",
     "output_type": "stream",
     "text": [
      "[50, 100, 30, '10t', 30, 100, 50] --- 31.612 --- 0\n",
      "[50, 100, 30, '10t', 30, 100, 50] --- 31.612 --- 0\n",
      "[50, 100, 30, '10t', 30, -100, 50] --- 33.534 --- 1\n",
      "\n",
      "MIN  = 31.612 s\n",
      "MAX  = 33.534 s\n",
      "MEAN = 32.253 s\n"
     ]
    }
   ],
   "source": [
    "# Reset paths variable\n",
    "paths = []\n",
    "run(TOLL1A, [\"t0_a\", \"t0_b\"])\n"
   ]
  },
  {
   "cell_type": "markdown",
   "metadata": {},
   "source": [
    "# Toll 1B"
   ]
  },
  {
   "cell_type": "code",
   "execution_count": 14,
   "metadata": {},
   "outputs": [
    {
     "name": "stdout",
     "output_type": "stream",
     "text": [
      "[50, 100, 30, '10t', 30, 100, 50] --- 31.612 --- 0\n",
      "[50, -100, 30, '10t', 30, 100, 50] --- 33.534 --- 1\n",
      "[50, -100, 30, '10t', 30, -100, 50] --- 35.456 --- 2\n",
      "[50, 100, 30, '10t', 30, 100, 50] --- 31.612 --- 0\n",
      "[50, 100, 30, '10t', 30, -100, 50] --- 33.534 --- 1\n",
      "[50, 100, 30, '10t', 30, -100, 50] --- 33.534 --- 1\n",
      "\n",
      "MIN  = 31.612 s\n",
      "MAX  = 35.456 s\n",
      "MEAN = 33.213 s\n"
     ]
    }
   ],
   "source": [
    "paths = []\n",
    "run(TOLL1B, [\"t0_a\", \"t0_b\"])\n"
   ]
  },
  {
   "cell_type": "markdown",
   "metadata": {},
   "source": [
    "# Toll 2A"
   ]
  },
  {
   "cell_type": "code",
   "execution_count": 15,
   "metadata": {},
   "outputs": [
    {
     "name": "stdout",
     "output_type": "stream",
     "text": [
      "[50, 100, 30, '10t', 30, -100, 50] --- 33.534 --- 1\n",
      "[50, -100, 30, '10t', 30, -100, 50] --- 35.456 --- 2\n",
      "[50, -100, 30, '10t', 30, -100, 50] --- 35.456 --- 2\n",
      "[50, -100, 30, '10t', 30, -100, 50] --- 35.456 --- 2\n",
      "[50, -100, 30, '10t', 30, -100, 50] --- 35.456 --- 2\n",
      "[50, 100, 30, '10t', 30, -100, 50] --- 33.534 --- 1\n",
      "\n",
      "MIN  = 33.534 s\n",
      "MAX  = 35.456 s\n",
      "MEAN = 34.815 s\n"
     ]
    }
   ],
   "source": [
    "paths = []\n",
    "run(TOLL2A, [\"t0_a\", \"t0_b\"])\n"
   ]
  },
  {
   "cell_type": "markdown",
   "metadata": {},
   "source": [
    "# Toll3A"
   ]
  },
  {
   "cell_type": "code",
   "execution_count": 16,
   "metadata": {},
   "outputs": [
    {
     "name": "stdout",
     "output_type": "stream",
     "text": [
      "[50, 50, 50, 30, '10t', 30, -50, 50, -50] --- 44.836 --- 2\n",
      "[50, 50, 50, 30, '10t', 30, 50, 50, -50] --- 38.224 --- 1\n",
      "[50, 50, 50, 30, '10t', 30, 50, 50, -50] --- 38.224 --- 1\n",
      "[50, 50, 50, 30, '10t', 30, -50, 50, -50] --- 44.836 --- 2\n",
      "\n",
      "MIN  = 38.224 s\n",
      "MAX  = 44.836 s\n",
      "MEAN = 41.53 s\n"
     ]
    }
   ],
   "source": [
    "paths = []\n",
    "run(TOLL3A, [\"t0_a\"])\n"
   ]
  }
 ],
 "metadata": {
  "kernelspec": {
   "display_name": "Python 3.10.6 ('MTH305-')",
   "language": "python",
   "name": "python3"
  },
  "language_info": {
   "codemirror_mode": {
    "name": "ipython",
    "version": 3
   },
   "file_extension": ".py",
   "mimetype": "text/x-python",
   "name": "python",
   "nbconvert_exporter": "python",
   "pygments_lexer": "ipython3",
   "version": "3.10.6"
  },
  "orig_nbformat": 4,
  "vscode": {
   "interpreter": {
    "hash": "3949fa4473528a71e9992e5c72f2f8d2c539ea68f91fd3763e6342bb528e788a"
   }
  }
 },
 "nbformat": 4,
 "nbformat_minor": 2
}
